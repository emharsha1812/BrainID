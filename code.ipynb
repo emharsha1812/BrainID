{
 "cells": [
  {
   "cell_type": "code",
   "execution_count": 40,
   "id": "c086dfa0",
   "metadata": {},
   "outputs": [],
   "source": [
    "#Importing necessary libraries and frameworks\n",
    "import tensorflow as tf\n",
    "import scipy as sc\n",
    "import numpy as np\n",
    "import time\n",
    "import sklearn.preprocessing\n",
    "from scipy.signal import butter,lfilter\n"
   ]
  },
  {
   "cell_type": "code",
   "execution_count": 41,
   "id": "54c52fac",
   "metadata": {},
   "outputs": [],
   "source": [
    "#Defining a butterworth filtter bandpass\n",
    "def butter_bandpass(lowcut,highcut,fs,order=5):\n",
    "    #Nyquist rate fs=2*fm\n",
    "    #fm=0.5*fs\n",
    "    nyq=0.5*fs\n",
    "    lowcut=lowcut/nyq\n",
    "    highcut=highcut/nyq\n",
    "    #b,a=numerator and denominator values of the IIR Filter\n",
    "    b,a=butter(order,[lowcut,highcut],btype='band')\n",
    "    return b,a"
   ]
  },
  {
   "cell_type": "code",
   "execution_count": 42,
   "id": "5c3875a6",
   "metadata": {},
   "outputs": [],
   "source": [
    "#Defining one hot encoding\n",
    "#This function is used to transfer one column label to one hot label\n",
    "def one_hot(y_):\n",
    "    #Function to encode output labels from number indexes\n",
    "    #e.g [[5],[3],[0]] --> [[0,0,0,0,0,1],[0,0,0,1,0,0],[0,0,0,0,0,0]]\n",
    "#     y_=y_.reshape((len(y_)))\n",
    "    y_=np.array(y_)\n",
    "    y_=y_.reshape(len(y_))\n",
    "    n_values=np.max(y_)+1\n",
    "    return np.eye(int(n_values))[np.array(y_,dtype=np.int32)]"
   ]
  },
  {
   "cell_type": "code",
   "execution_count": 43,
   "id": "60d06479",
   "metadata": {},
   "outputs": [
    {
     "name": "stdout",
     "output_type": "stream",
     "text": [
      "[[0. 0. 0. 0. 0. 1.]\n",
      " [0. 0. 0. 1. 0. 0.]\n",
      " [0. 0. 1. 0. 0. 0.]]\n"
     ]
    }
   ],
   "source": [
    "#Checking\n",
    "a1=[[5],[3],[2]]\n",
    "a2=one_hot(a1)\n",
    "print(a2)"
   ]
  },
  {
   "cell_type": "code",
   "execution_count": 44,
   "id": "f92dc082",
   "metadata": {},
   "outputs": [],
   "source": [
    "def butter_bandpass_filter(data,lowcut,highcut,fs,order=5):\n",
    "    b,a=butter_bandpass(lowcut,highcut,fs,order=order)\n",
    "    y=lfilter(b,a,data)\n",
    "    return y\n",
    "    "
   ]
  },
  {
   "cell_type": "markdown",
   "id": "a38e0cd8",
   "metadata": {},
   "source": [
    "Defining some variables used to load and process the EEG Data\n",
    "1. **len_sample** = Length of each sample ( in seconds )\n",
    "2. **full**= total number of samples per subject \n",
    "3. **n_fea**=number of features ( EEG Channels )\n",
    "4. **label0-label7** = Defines the labels for each sample"
   ]
  },
  {
   "cell_type": "code",
   "execution_count": 45,
   "id": "19e9bab1",
   "metadata": {},
   "outputs": [
    {
     "name": "stdout",
     "output_type": "stream",
     "text": [
      "[[0.]\n",
      " [0.]\n",
      " [0.]\n",
      " ...\n",
      " [7.]\n",
      " [7.]\n",
      " [7.]]\n"
     ]
    }
   ],
   "source": [
    "len_sample=1\n",
    "full=7000\n",
    "len_a=int(full/len_sample)\n",
    "label0=np.zeros(len_a)\n",
    "label1=np.ones(len_a)\n",
    "label2=np.ones(len_a)*2\n",
    "label3=np.ones(len_a)*3\n",
    "label4=np.ones(len_a)*4\n",
    "label5=np.ones(len_a)*5\n",
    "label6=np.ones(len_a)*6\n",
    "label7=np.ones(len_a)*7\n",
    "label=np.hstack((label0,label1,label2,label3,label4,label5,label6,label7))\n",
    "label=label.T\n",
    "label.shape=(len(label),1)\n",
    "print(label)"
   ]
  },
  {
   "cell_type": "code",
   "execution_count": 46,
   "id": "42c71ccc",
   "metadata": {},
   "outputs": [],
   "source": [
    "start1=time.process_time()"
   ]
  },
  {
   "cell_type": "code",
   "execution_count": 47,
   "id": "d4fb6fcc",
   "metadata": {},
   "outputs": [],
   "source": [
    "feature=sc.io.loadmat(\"EID-S.mat\")\n",
    "all=feature['eeg_close_8sub_1file']"
   ]
  },
  {
   "cell_type": "code",
   "execution_count": 48,
   "id": "a5784f0d",
   "metadata": {},
   "outputs": [],
   "source": [
    "n_fea=14\n",
    "all=all[0:full*8,0:n_fea]"
   ]
  },
  {
   "cell_type": "markdown",
   "id": "e7edde3f",
   "metadata": {},
   "source": [
    "### Next steps - Performing a filtering operation on a EEG Dataset to extract the delta wave pattern using a Butterworth filter\n",
    "\n",
    "1. **start2**= measures the starting time using `time.process_time()` function and stores it in a variable\n",
    "2. Initialize an empty list **data_f1** to store the filtered EEG data\n",
    "3. Loop over the columns of the `all` array using `range(all.shape[1])`\n",
    "4. For each column, applies a bandpass filter using the butter_bandpass_filter function with the specified lowcut, highcut and sampling frequency values. The filtered data is then stored in the `data_f1 list`.\n",
    "5. Convert the `data_f1` list to a numpy array and then transpose it\n",
    "6. Replace the original `all` array with the filtered data array `data_f1`\n",
    "7. Measure the ending time using the `time.process_time()` function and store it in a variable `time3`\n",
    "8. Print the shape of the filtered data array and the elapsed timem for the filtering operation"
   ]
  },
  {
   "cell_type": "code",
   "execution_count": 49,
   "id": "20c5fb31",
   "metadata": {},
   "outputs": [],
   "source": [
    "#Timing the process\n",
    "start=time.process_time()\n",
    "\n",
    "#Empty list\n",
    "data_f1=[]\n",
    "for i in range(all.shape[1]):\n",
    "    x=all[:,i]\n",
    "    fs=128.0\n",
    "    lowcut=0.5\n",
    "    highcut=4.0\n",
    "    y=butter_bandpass_filter(x,lowcut,highcut,fs,order=3)\n",
    "    data_f1.append(y)"
   ]
  },
  {
   "cell_type": "code",
   "execution_count": 50,
   "id": "cf671395",
   "metadata": {},
   "outputs": [
    {
     "name": "stdout",
     "output_type": "stream",
     "text": [
      "data_f1.shape (56000, 14)\n"
     ]
    }
   ],
   "source": [
    "data_f1=np.array(data_f1)\n",
    "data_f1=data_f1.T\n",
    "print('data_f1.shape',data_f1.shape)"
   ]
  },
  {
   "cell_type": "code",
   "execution_count": 51,
   "id": "c85a4334",
   "metadata": {},
   "outputs": [
    {
     "name": "stdout",
     "output_type": "stream",
     "text": [
      "PD time -0.015625\n",
      "(56000, 15)\n"
     ]
    }
   ],
   "source": [
    "all=data_f1\n",
    "end=time.process_time()\n",
    "print('PD time',start-end)\n",
    "all=np.hstack((all,label))\n",
    "print(all.shape)"
   ]
  },
  {
   "cell_type": "code",
   "execution_count": 52,
   "id": "155fa092",
   "metadata": {},
   "outputs": [
    {
     "name": "stdout",
     "output_type": "stream",
     "text": [
      "[[0.]\n",
      " [0.]\n",
      " [0.]\n",
      " ...\n",
      " [7.]\n",
      " [7.]\n",
      " [7.]]\n"
     ]
    }
   ],
   "source": [
    "#all=combine data\n",
    "data_size=all.shape[0]\n",
    "\n",
    "feature_all=all[:,0:n_fea]\n",
    "print(all[:,n_fea:n_fea+1])"
   ]
  },
  {
   "cell_type": "code",
   "execution_count": 53,
   "id": "ecdedd3e",
   "metadata": {},
   "outputs": [],
   "source": [
    "feature_all=feature_all-4200 #minus Direct Current\n",
    "#z-score scaling\n",
    "feature_all=sklearn.preprocessing.scale(feature_all)"
   ]
  },
  {
   "cell_type": "code",
   "execution_count": 54,
   "id": "26ea0e18",
   "metadata": {},
   "outputs": [
    {
     "name": "stdout",
     "output_type": "stream",
     "text": [
      "(56000, 15)\n"
     ]
    }
   ],
   "source": [
    "label_all=all[:,n_fea:n_fea+1]\n",
    "all=np.hstack((feature_all,label_all))\n",
    "print(all.shape)"
   ]
  },
  {
   "cell_type": "code",
   "execution_count": 55,
   "id": "0b91dfc4",
   "metadata": {},
   "outputs": [],
   "source": [
    "#Using the first subject as testing subject\n",
    "np.random.shuffle(all)"
   ]
  },
  {
   "cell_type": "code",
   "execution_count": 56,
   "id": "20c98111",
   "metadata": {},
   "outputs": [],
   "source": [
    "train_data=all[0:int(data_size*0.875)] #Training data is 87.5% of original\n",
    "test_data=all[int(data_size*0.875):data_size]\n",
    "\n",
    "no_fea=n_fea\n",
    "n_steps=len_sample\n",
    "\n",
    "feature_training=train_data[:,0:no_fea]\n",
    "feature_training=feature_training.reshape([train_data.shape[0],n_steps,no_fea])\n",
    "\n",
    "feature_testing=test_data[:,0:no_fea]\n",
    "feature_training = feature_training.reshape([train_data.shape[0], n_steps, no_fea])\n",
    "\n",
    "\n",
    "feature_testing = test_data[:,0:no_fea]\n",
    "\n",
    "feature_testing = feature_testing.reshape([test_data.shape[0], n_steps, no_fea])"
   ]
  },
  {
   "cell_type": "code",
   "execution_count": 57,
   "id": "acca35fa",
   "metadata": {},
   "outputs": [
    {
     "name": "stdout",
     "output_type": "stream",
     "text": [
      "[3. 7. 5. ... 4. 3. 3.]\n"
     ]
    }
   ],
   "source": [
    "label_training=train_data[:,no_fea]\n",
    "label_training=one_hot(label_training)\n",
    "label_testing=test_data[:,no_fea]\n",
    "print(label_testing)"
   ]
  },
  {
   "cell_type": "code",
   "execution_count": 58,
   "id": "c9428c5d",
   "metadata": {},
   "outputs": [
    {
     "name": "stdout",
     "output_type": "stream",
     "text": [
      "(56000, 15)\n"
     ]
    }
   ],
   "source": [
    "print(all.shape)"
   ]
  },
  {
   "cell_type": "markdown",
   "id": "3cb8c0c9",
   "metadata": {},
   "source": [
    "### Batch Splitting\n",
    "**Splitting the input data into batches for training in order to process it more efficiently**\n",
    "\n",
    "***Steps Involved***\n",
    "1. It calculates the batch size by multiplying the total data size by 0.125 (12.5%).\n",
    "2. It creates an empty list called train_fea.\n",
    "3. It sets the number of groups to 7.\n",
    "4. It loops through each group and selects the corresponding slice of the feature_training array to add to the train_fea list. Each slice is determined by multiplying the batch size by the group index and adding 0 to the start and end indices for the first group, adding one batch size to both the start and end indices for the second group, and so on. The result is that train_fea is a list of 7 arrays, each with batch_size rows and some number of columns.\n",
    "5. It prints the shape of the first element of train_fea (which should be (batch_size, num_features)) and the elements of rows 235 and 236 of the first element of train_fea.\n",
    "6. It creates an empty list called train_label.\n",
    "7. It loops through each group and selects the corresponding slice of the label_training array to add to the train_label list. The slices are determined in the same way as for train_fea. The result is that train_label is a list of 7 arrays, each with batch_size rows and some number of columns.\n",
    "8. It prints the shape of the first element of train_label (which should be (batch_size, num_classes)). \n"
   ]
  },
  {
   "cell_type": "code",
   "execution_count": 60,
   "id": "1c57264d",
   "metadata": {},
   "outputs": [
    {
     "name": "stdout",
     "output_type": "stream",
     "text": [
      "(7000, 1, 14)\n",
      "[[[-0.09378779 -0.06043805 -0.09919309  0.03460951 -0.08454526\n",
      "   -0.19051451 -0.05166393  0.01166725 -0.05876981  0.10477627\n",
      "    0.00357929 -0.13836816  0.0152799  -0.00602975]]\n",
      "\n",
      " [[-0.03912419 -0.02063108  0.01708471  0.04179383  0.20251174\n",
      "    0.10139998  0.09560028  0.12901811  0.01292951  0.18021937\n",
      "    0.05002188  0.01246227  0.11762213  0.01637767]]]\n",
      "(7000, 8)\n"
     ]
    }
   ],
   "source": [
    "a=feature_training\n",
    "b=feature_testing\n",
    "nodes=30\n",
    "lameda=0.001\n",
    "lr=0.001\n",
    "\n",
    "batch_size=int(data_size*0.125)\n",
    "\n",
    "n_group=7\n",
    "\n",
    "def range_calculator(listname,listdest):\n",
    "    for i in range(n_group):\n",
    "        f=listname[(0+batch_size*i):(batch_size+batch_size*i)]\n",
    "        listdest.append(f)\n",
    "\n",
    "train_fea=[]\n",
    "train_label=[]\n",
    "\n",
    "range_calculator(a,train_fea)\n",
    "range_calculator(label_training,train_label)\n",
    "\n",
    "print(train_fea[0].shape)\n",
    "print(train_fea[0][235:237])\n",
    "\n",
    "print(train_label[0].shape)"
   ]
  },
  {
   "cell_type": "code",
   "execution_count": null,
   "id": "d56c8b9e",
   "metadata": {},
   "outputs": [],
   "source": []
  }
 ],
 "metadata": {
  "kernelspec": {
   "display_name": "Python 3 (ipykernel)",
   "language": "python",
   "name": "python3"
  },
  "language_info": {
   "codemirror_mode": {
    "name": "ipython",
    "version": 3
   },
   "file_extension": ".py",
   "mimetype": "text/x-python",
   "name": "python",
   "nbconvert_exporter": "python",
   "pygments_lexer": "ipython3",
   "version": "3.9.16"
  }
 },
 "nbformat": 4,
 "nbformat_minor": 5
}
