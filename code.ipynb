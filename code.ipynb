{
 "cells": [
  {
   "cell_type": "code",
   "execution_count": 19,
   "id": "6ba95bc5",
   "metadata": {},
   "outputs": [],
   "source": [
    "#Importing necessary libraries and frameworks\n",
    "import tensorflow as tf\n",
    "import scipy as sc\n",
    "import numpy as np\n",
    "import time\n",
    "import sklearn.preprocessing\n",
    "from scipy.signal import butter,lfilter\n"
   ]
  },
  {
   "cell_type": "code",
   "execution_count": 20,
   "id": "7badf6b1",
   "metadata": {},
   "outputs": [],
   "source": [
    "#Defining a butterworth filtter bandpass\n",
    "def butter_bandpass(lowcut,highcut,fs,order=5):\n",
    "    #Nyquist rate fs=2*fm\n",
    "    #fm=0.5*fs\n",
    "    nyq=0.5*fs\n",
    "    lowcut=lowcut/nyq\n",
    "    highcut=highcut/nyq\n",
    "    #b,a=numerator and denominator values of the IIR Filter\n",
    "    b,a=butter(order,[low,high],btype='band')\n",
    "    return b,a"
   ]
  },
  {
   "cell_type": "code",
   "execution_count": 21,
   "id": "6c64f1e5",
   "metadata": {},
   "outputs": [],
   "source": [
    "#Defining one hot encoding\n",
    "#This function is used to transfer one column label to one hot label\n",
    "def one_hot(y_):\n",
    "    #Function to encode output labels from number indexes\n",
    "    #e.g [[5],[3],[0]] --> [[0,0,0,0,0,1],[0,0,0,1,0,0],[0,0,0,0,0,0]]\n",
    "#     y_=y_.reshape((len(y_)))\n",
    "    y_=np.array(y_)\n",
    "    y_=y_.reshape(len(y_))\n",
    "    n_values=np.max(y_)+1\n",
    "    return np.eye(n_values)[np.array(y_,dtype=np.int32)]"
   ]
  },
  {
   "cell_type": "code",
   "execution_count": 22,
   "id": "873c024a",
   "metadata": {},
   "outputs": [
    {
     "name": "stdout",
     "output_type": "stream",
     "text": [
      "[[0. 0. 0. 0. 0. 1.]\n",
      " [0. 0. 0. 1. 0. 0.]\n",
      " [0. 0. 1. 0. 0. 0.]]\n"
     ]
    }
   ],
   "source": [
    "#Checking\n",
    "a1=[[5],[3],[2]]\n",
    "a2=one_hot(a1)\n",
    "print(a2)"
   ]
  },
  {
   "cell_type": "code",
   "execution_count": 23,
   "id": "598ce3ee",
   "metadata": {},
   "outputs": [],
   "source": [
    "def butter_bandpass_filter(data,lowcut,highcut,fs,order=5):\n",
    "    b,a=butter_bandpass(lowcut,highcut,fs,order=order)\n",
    "    y=lfilter(b,a,data)\n",
    "    return y\n",
    "    "
   ]
  },
  {
   "cell_type": "markdown",
   "id": "016e4fe1",
   "metadata": {},
   "source": [
    "Defining some variables used to load and process the EEG Data\n",
    "1. **len_sample** = Length of each sample ( in seconds )\n",
    "2. **full**= total number of samples per subject \n",
    "3. **n_fea**=number of features ( EEG Channels )\n",
    "4. **label0-label7** = Defines the labels for each sample"
   ]
  },
  {
   "cell_type": "code",
   "execution_count": 25,
   "id": "30481651",
   "metadata": {},
   "outputs": [
    {
     "name": "stdout",
     "output_type": "stream",
     "text": [
      "[[0.]\n",
      " [0.]\n",
      " [0.]\n",
      " ...\n",
      " [7.]\n",
      " [7.]\n",
      " [7.]]\n"
     ]
    }
   ],
   "source": [
    "len_sample=1\n",
    "full=7000\n",
    "len_a=int(full/len_sample)\n",
    "label0=np.zeros(len_a)\n",
    "label1=np.ones(len_a)\n",
    "label2=np.ones(len_a)*2\n",
    "label3=np.ones(len_a)*3\n",
    "label4=np.ones(len_a)*4\n",
    "label5=np.ones(len_a)*5\n",
    "label6=np.ones(len_a)*6\n",
    "label7=np.ones(len_a)*7\n",
    "label=np.hstack((label0,label1,label2,label3,label4,label5,label6,label7))\n",
    "label=label.T\n",
    "label.shape=(len(label),1)\n",
    "print(label)"
   ]
  },
  {
   "cell_type": "code",
   "execution_count": 27,
   "id": "ca37c698",
   "metadata": {},
   "outputs": [],
   "source": [
    "time=time.process_time()"
   ]
  },
  {
   "cell_type": "code",
   "execution_count": 29,
   "id": "4cb1f480",
   "metadata": {},
   "outputs": [],
   "source": [
    "feature=sc.io.loadmat(\"EID-S.mat\")\n",
    "all=feature['eeg_close_8sub_1file']"
   ]
  },
  {
   "cell_type": "code",
   "execution_count": null,
   "id": "aafba629",
   "metadata": {},
   "outputs": [],
   "source": []
  }
 ],
 "metadata": {
  "kernelspec": {
   "display_name": "Python 3 (ipykernel)",
   "language": "python",
   "name": "python3"
  },
  "language_info": {
   "codemirror_mode": {
    "name": "ipython",
    "version": 3
   },
   "file_extension": ".py",
   "mimetype": "text/x-python",
   "name": "python",
   "nbconvert_exporter": "python",
   "pygments_lexer": "ipython3",
   "version": "3.9.16"
  }
 },
 "nbformat": 4,
 "nbformat_minor": 5
}
